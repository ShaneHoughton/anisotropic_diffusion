{
 "cells": [
  {
   "cell_type": "code",
   "execution_count": null,
   "metadata": {},
   "outputs": [],
   "source": [
    "# In its discrete form, ADF is an iterative algorithm that simulates the diffusion process by\n",
    "# It_s+1 = It_s + lambda/abs(Ns) SUM(g(abs(grad(It_s_p)))), gamma) * grad(It_s_p)\n",
    "\n",
    "#It_s is the intensity of the pixel s from image I at instant t\n",
    "#lambda is a scalar related to the diffusion rate\n",
    "#gamma is a positive CONSTANT SELECTED according to the desired smoothing level\n",
    "#Ns stands for the set of adjacent pixels of s #TODO is this a neighborhood\n",
    "#g() is an ESF? \n",
    "#gradient(It_s_p) is the maginitude of the image directional gradient from pixel s to p at instant t. #TODO translate this better\n",
    "    #can be approximated by It_p - It_s\n",
    "\n",
    "#To simplify the notatino grad It_s_p will be replaced with x whenever pixel info and iteration number is irrelevant to the \"context\"\n",
    "\n",
    "def ADF(im, t, gam, l, step):\n",
    "    for i in range(t):\n",
    "        #calculate next im+1\n",
    "        # current im\n",
    "\n",
    "\n",
    "\n",
    "def g(x, gamma)\n"
   ]
  }
 ],
 "metadata": {
  "language_info": {
   "name": "python"
  },
  "orig_nbformat": 4
 },
 "nbformat": 4,
 "nbformat_minor": 2
}
